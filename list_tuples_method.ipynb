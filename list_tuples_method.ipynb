{
  "nbformat": 4,
  "nbformat_minor": 0,
  "metadata": {
    "colab": {
      "provenance": []
    },
    "kernelspec": {
      "name": "python3",
      "display_name": "Python 3"
    },
    "language_info": {
      "name": "python"
    }
  },
  "cells": [
    {
      "cell_type": "markdown",
      "source": [
        "**Basic List Operations**\n",
        "\n",
        "\n"
      ],
      "metadata": {
        "id": "yXVqUv6lUUy4"
      }
    },
    {
      "cell_type": "markdown",
      "source": [
        "1. Create a list of five numbers and append a new number to it. Print the updated list.\n"
      ],
      "metadata": {
        "id": "DqzNkyPXU3G1"
      }
    },
    {
      "cell_type": "code",
      "source": [
        "#numbers = [23, 26, 11, 22, 4]\n",
        "#numbers.append(1)\n",
        "#print(numbers)"
      ],
      "metadata": {
        "colab": {
          "base_uri": "https://localhost:8080/"
        },
        "id": "WBYXYxBsUZMg",
        "outputId": "e9e88b7c-cd9e-4197-a905-c0371f429784"
      },
      "execution_count": null,
      "outputs": [
        {
          "output_type": "stream",
          "name": "stdout",
          "text": [
            "[23, 26, 11, 22, 4, 1]\n"
          ]
        }
      ]
    },
    {
      "cell_type": "markdown",
      "source": [
        "2. Extend a list [1, 2, 3] with another list [4, 5, 6]. Print the result."
      ],
      "metadata": {
        "id": "wXLyEZEBYLvq"
      }
    },
    {
      "cell_type": "code",
      "source": [
        "#list1 = [1, 2, 3]\n",
        "#list2 = [4, 5, 6]\n",
        "#list1.extend(list2)\n",
        "#print(list1)"
      ],
      "metadata": {
        "colab": {
          "base_uri": "https://localhost:8080/"
        },
        "id": "nRdm6OASYMy4",
        "outputId": "69db8a99-9cc5-44a0-c4c9-93335438006f"
      },
      "execution_count": null,
      "outputs": [
        {
          "output_type": "stream",
          "name": "stdout",
          "text": [
            "[1, 2, 3, 4, 5, 6]\n"
          ]
        }
      ]
    },
    {
      "cell_type": "markdown",
      "source": [
        "3. Insert the string \"Python\" at index 2 in the list [\"Java\", \"C++\", \"JavaScript\",\n",
        "\"Ruby\"].\n"
      ],
      "metadata": {
        "id": "8Y2vu2LwZ1EW"
      }
    },
    {
      "cell_type": "code",
      "source": [
        "#languages = [\"Java\", \"C++\", \"JavaScript\", \"Ruby\"]\n",
        "#languages.insert(2, \"Python\")\n",
        "#print(languages)"
      ],
      "metadata": {
        "colab": {
          "base_uri": "https://localhost:8080/"
        },
        "id": "J8kl4XDcZ4Jl",
        "outputId": "573b127a-2874-4b5a-b1d3-34de7c953f90"
      },
      "execution_count": null,
      "outputs": [
        {
          "output_type": "stream",
          "name": "stdout",
          "text": [
            "['Java', 'C++', 'Python', 'JavaScript', 'Ruby']\n"
          ]
        }
      ]
    },
    {
      "cell_type": "markdown",
      "source": [
        "4. Remove the first occurrence of the number 10 from the list [10, 20, 30, 10, 40]."
      ],
      "metadata": {
        "id": "mICn7-28a6ci"
      }
    },
    {
      "cell_type": "code",
      "source": [
        "#numbers = [10, 20, 30, 10, 40]\n",
        "#numbers.remove(10)\n",
        "#print(numbers)"
      ],
      "metadata": {
        "colab": {
          "base_uri": "https://localhost:8080/"
        },
        "id": "d22rU-hXa-DJ",
        "outputId": "8c9f7224-2004-4563-b56c-cfcd388432e1"
      },
      "execution_count": null,
      "outputs": [
        {
          "output_type": "stream",
          "name": "stdout",
          "text": [
            "[20, 30, 10, 40]\n"
          ]
        }
      ]
    },
    {
      "cell_type": "markdown",
      "source": [
        "5. Use the pop() method to remove the last element from [100, 200, 300, 400] and\n",
        "print the modified list.\n"
      ],
      "metadata": {
        "id": "IMHtyIdIbyUd"
      }
    },
    {
      "cell_type": "code",
      "source": [
        "#originalList = [100, 200, 300, 400]\n",
        "#removed_element = originalList.pop()\n",
        "#print(\"modified list:\" , originalList)"
      ],
      "metadata": {
        "colab": {
          "base_uri": "https://localhost:8080/"
        },
        "id": "joFCBkBIb0KM",
        "outputId": "f2910bc3-6325-4c31-e140-bf96013d6de2"
      },
      "execution_count": null,
      "outputs": [
        {
          "output_type": "stream",
          "name": "stdout",
          "text": [
            "modified list: [100, 200, 300]\n"
          ]
        }
      ]
    },
    {
      "cell_type": "markdown",
      "source": [
        "**Intermediate List Operations**"
      ],
      "metadata": {
        "id": "JrCfZKkXhP_6"
      }
    },
    {
      "cell_type": "markdown",
      "source": [
        "6. Count how many times the number 5 appears in the list [5, 10, 5, 20, 5, 30]."
      ],
      "metadata": {
        "id": "cUmN8zO6hRka"
      }
    },
    {
      "cell_type": "code",
      "source": [
        "#numbers_list =  [5, 10, 5, 20, 5, 30]\n",
        "#count_of_repeated_number = numbers_list.count(5)\n",
        "#print(\"5 is repeated\", count_of_repeated_number, \"times\")\n"
      ],
      "metadata": {
        "colab": {
          "base_uri": "https://localhost:8080/"
        },
        "id": "iQOpjlM3hWFS",
        "outputId": "aabac6fa-f70c-4253-8b7d-c8ad444fcc6d"
      },
      "execution_count": null,
      "outputs": [
        {
          "output_type": "stream",
          "name": "stdout",
          "text": [
            "5 is repeated 3 times\n"
          ]
        }
      ]
    },
    {
      "cell_type": "markdown",
      "source": [
        "7. Sort the list [9, 1, 8, 3, 5] in ascending and descending order"
      ],
      "metadata": {
        "id": "Z-GqrKsSkdfP"
      }
    },
    {
      "cell_type": "code",
      "source": [
        "#my_list = [9, 1, 8, 3, 5]\n",
        "#my_list.sort()\n",
        "#print(\"ascending order:\", my_list)\n",
        "#my_list.sort(reverse=True)\n",
        "#print(\"descending order:\", list)"
      ],
      "metadata": {
        "colab": {
          "base_uri": "https://localhost:8080/"
        },
        "id": "YgmvC0ofkhbn",
        "outputId": "94650585-eb10-4fb8-bc70-33db73fb47aa"
      },
      "execution_count": null,
      "outputs": [
        {
          "output_type": "stream",
          "name": "stdout",
          "text": [
            "ascending order: [1, 3, 5, 8, 9]\n",
            "descending order: [9, 8, 5, 3, 1]\n"
          ]
        }
      ]
    },
    {
      "cell_type": "markdown",
      "source": [
        "8. Reverse the list [“apple”, “banana”, “cherry”] using the reverse() method"
      ],
      "metadata": {
        "id": "22XoBSdRn31a"
      }
    },
    {
      "cell_type": "code",
      "source": [
        "#list_of_fruits = [\"apple\", \"banana\", \"cherry\"]\n",
        "#list_of_fruits.reverse()\n",
        "#print(list_of_fruits)"
      ],
      "metadata": {
        "colab": {
          "base_uri": "https://localhost:8080/"
        },
        "id": "yJzYKr3kn7ZS",
        "outputId": "53e6a09f-4dac-4259-a45a-187fa59e5081"
      },
      "execution_count": null,
      "outputs": [
        {
          "output_type": "stream",
          "name": "stdout",
          "text": [
            "['cherry', 'banana', 'apple']\n"
          ]
        }
      ]
    },
    {
      "cell_type": "markdown",
      "source": [
        "9. Create a copy of the list [1, 2, 3, 4, 5] and store it in another variable. Modify the\n",
        "copied list and print both lists"
      ],
      "metadata": {
        "id": "AEyvjeGDqIXW"
      }
    },
    {
      "cell_type": "code",
      "source": [
        "#original_list = [1, 2, 3, 4, 5]\n",
        "#copied_list = original_list.copy()\n",
        "#copied_list.append(26)\n",
        "#print(\"original list:\", original_list)\n",
        "#print(\"copied list:\", copied_list)"
      ],
      "metadata": {
        "colab": {
          "base_uri": "https://localhost:8080/"
        },
        "id": "ONp8aFY4qJeX",
        "outputId": "bb88b9f8-1f3d-4b01-c129-ce184ba3266b"
      },
      "execution_count": null,
      "outputs": [
        {
          "output_type": "stream",
          "name": "stdout",
          "text": [
            "original list: [1, 2, 3, 4, 5]\n",
            "copied list: [1, 2, 3, 4, 5, 26]\n"
          ]
        }
      ]
    },
    {
      "cell_type": "markdown",
      "source": [
        "10. Clear all elements from a list [“hello”, “world”, “python”] using the clear()\n",
        "method"
      ],
      "metadata": {
        "id": "UDJ-JdxrroNZ"
      }
    },
    {
      "cell_type": "code",
      "source": [
        "#actual_list = [\"hello\", \"world\", \"python\"]\n",
        "#actual_list.clear()\n",
        "#print(actual_list)"
      ],
      "metadata": {
        "colab": {
          "base_uri": "https://localhost:8080/"
        },
        "id": "vReqKQDyrtpx",
        "outputId": "304a93e5-3a01-4713-e736-88dc7be113be"
      },
      "execution_count": null,
      "outputs": [
        {
          "output_type": "stream",
          "name": "stdout",
          "text": [
            "[]\n"
          ]
        }
      ]
    },
    {
      "cell_type": "markdown",
      "source": [
        "**Tuple-Based Questions**"
      ],
      "metadata": {
        "id": "XtbXUlaJsX2g"
      }
    },
    {
      "cell_type": "markdown",
      "source": [
        "11. Create a tuple with 5 different fruits and print the third fruit."
      ],
      "metadata": {
        "id": "Apf7lXTVs0Zu"
      }
    },
    {
      "cell_type": "code",
      "source": [
        "#list_of_fruits = ( \"banana\", \"cherry\", \"starfruit\", \"orange\", \"kiwi\")\n",
        "#print(\"The third fruit in the given list is:\",list_of_fruits[2])"
      ],
      "metadata": {
        "colab": {
          "base_uri": "https://localhost:8080/"
        },
        "id": "BsPgBhw7s34G",
        "outputId": "94b747e9-420b-469b-c924-c6d4198854af"
      },
      "execution_count": null,
      "outputs": [
        {
          "output_type": "stream",
          "name": "stdout",
          "text": [
            "The third fruit in the given list is: starfruit\n"
          ]
        }
      ]
    },
    {
      "cell_type": "markdown",
      "source": [
        "12. Convert the tuple (10, 20, 30, 40, 50) into a list, remove the number 30, and convert\n",
        "it back into a tuple.\n"
      ],
      "metadata": {
        "id": "xZ-pKNDhuU-1"
      }
    },
    {
      "cell_type": "code",
      "source": [
        "number_tuple = (10, 20, 30, 40, 50)\n",
        "number_list = list(number_tuple)\n",
        "number_list.remove(30)\n",
        "updated_tuple = tuple(number_list)\n",
        "print(\"Updated Tuple:\", updated_tuple)"
      ],
      "metadata": {
        "colab": {
          "base_uri": "https://localhost:8080/"
        },
        "id": "70vRTchi3N5n",
        "outputId": "5b606f4a-9445-4d13-bebd-a22e4f6c5bc5"
      },
      "execution_count": 1,
      "outputs": [
        {
          "output_type": "stream",
          "name": "stdout",
          "text": [
            "Updated Tuple: (10, 20, 40, 50)\n"
          ]
        }
      ]
    },
    {
      "cell_type": "code",
      "source": [
        "print(type(list))"
      ],
      "metadata": {
        "colab": {
          "base_uri": "https://localhost:8080/"
        },
        "id": "57Bqh6C83Vdu",
        "outputId": "6a6753bb-7916-4042-9b62-71ae43ee61f5"
      },
      "execution_count": null,
      "outputs": [
        {
          "output_type": "stream",
          "name": "stdout",
          "text": [
            "<class 'list'>\n"
          ]
        }
      ]
    },
    {
      "cell_type": "markdown",
      "source": [
        "13. Try to append an element to the tuple (“A”, “B”, “C”). What happens? How can you\n",
        "modify a tuple indirectly?"
      ],
      "metadata": {
        "id": "nX4120an3paf"
      }
    },
    {
      "cell_type": "code",
      "source": [
        "alphabet = (\"A\", \"B\", \"C\")\n",
        "list_of_alphabet = list(alphabet)\n",
        "list_of_alphabet.append(\"D\")\n",
        "updatedd_tuple = tuple(list_of_alphabet)\n",
        "print(updatedd_tuple)"
      ],
      "metadata": {
        "id": "YurOqgII3sje",
        "colab": {
          "base_uri": "https://localhost:8080/"
        },
        "outputId": "81d23de5-ee45-491a-d505-a4d13f6f3582"
      },
      "execution_count": 3,
      "outputs": [
        {
          "output_type": "stream",
          "name": "stdout",
          "text": [
            "('A', 'B', 'C', 'D')\n"
          ]
        }
      ]
    },
    {
      "cell_type": "markdown",
      "source": [
        "14. Unpack the tuple (100, 200, 300) into three separate variables and print them"
      ],
      "metadata": {
        "id": "rStKf-VRd4o8"
      }
    },
    {
      "cell_type": "code",
      "source": [
        "my_tuple = (100, 200, 300)\n",
        "y, h, k = my_tuple\n",
        "print(\"y =\", y)\n",
        "print(\"h =\", h)\n",
        "print(\"k =\", k)\n"
      ],
      "metadata": {
        "colab": {
          "base_uri": "https://localhost:8080/"
        },
        "id": "zRQb2bgBd5mc",
        "outputId": "2541c987-8494-4b6d-822f-4eac14c4dbe4"
      },
      "execution_count": 5,
      "outputs": [
        {
          "output_type": "stream",
          "name": "stdout",
          "text": [
            "y = 100\n",
            "h = 200\n",
            "k = 300\n"
          ]
        }
      ]
    },
    {
      "cell_type": "markdown",
      "source": [
        "15. Count the occurrences of 7 in the tuple (7, 1, 7, 3, 7, 5)."
      ],
      "metadata": {
        "id": "CcKR6s-YfGeW"
      }
    },
    {
      "cell_type": "code",
      "source": [
        "my_tuple = (7, 1, 7, 3, 7, 5)\n",
        "count_of_7 = my_tuple.count(7)\n",
        "print(\"The number 7 is repeated\", count_of_7, \"times\")"
      ],
      "metadata": {
        "colab": {
          "base_uri": "https://localhost:8080/"
        },
        "id": "bI3CPJebfHbF",
        "outputId": "6d434d98-c096-4502-ca8a-3318cc2d40bf"
      },
      "execution_count": 7,
      "outputs": [
        {
          "output_type": "stream",
          "name": "stdout",
          "text": [
            "The number 7 is repeated 3 times\n"
          ]
        }
      ]
    },
    {
      "cell_type": "markdown",
      "source": [
        "**Advanced Problems**"
      ],
      "metadata": {
        "id": "PdJHOXfnfnZm"
      }
    },
    {
      "cell_type": "markdown",
      "source": [
        "16. Write a function that takes a list and returns a new list with all even numbers removed."
      ],
      "metadata": {
        "id": "Vgg6r8TZfsrE"
      }
    },
    {
      "cell_type": "code",
      "source": [
        "def remove_even_numbers(input_list):\n",
        "    odd_numbers = []\n",
        "    for number in input_list:\n",
        "        if number % 2 != 0:\n",
        "            odd_numbers.append(number)\n",
        "    return odd_numbers\n",
        "numbers = [1, 2, 3, 4, 5, 6, 7, 8, 9, 10]\n",
        "result = remove_even_numbers(numbers)\n",
        "print(\"list with even numbers removed:\" , result)"
      ],
      "metadata": {
        "colab": {
          "base_uri": "https://localhost:8080/"
        },
        "id": "-S8lE1ncfuf8",
        "outputId": "61bd3f7c-f1d0-40a7-ea96-c02183b906ae"
      },
      "execution_count": 9,
      "outputs": [
        {
          "output_type": "stream",
          "name": "stdout",
          "text": [
            "list with even numbers removed: [1, 3, 5, 7, 9]\n"
          ]
        }
      ]
    },
    {
      "cell_type": "markdown",
      "source": [
        "17. Create a function that accepts a list and returns a new list with elements sorted in\n",
        "descending order without using the sort() method.\n"
      ],
      "metadata": {
        "id": "sgNUxowAl-9j"
      }
    },
    {
      "cell_type": "code",
      "source": [
        "def sort_descending(input_list):\n",
        "    n = len(input_list)\n",
        "    for i in range(n):\n",
        "        max_index = i\n",
        "        for j in range(i + 1, n):\n",
        "            if input_list[j] > input_list[max_index]:\n",
        "                max_index = j\n",
        "        input_list[i], input_list[max_index] = input_list[max_index], input_list[i]\n",
        "    return input_list\n",
        "numbers = [5, 2, 9, 1, 5, 6]\n",
        "sorted_numbers = sort_descending(numbers)\n",
        "print(\"sorted list (Descending): \", sorted_numbers)"
      ],
      "metadata": {
        "colab": {
          "base_uri": "https://localhost:8080/"
        },
        "id": "3PjTu8IQl_s6",
        "outputId": "f9365dad-32b4-4f21-da75-a010b23eecd1"
      },
      "execution_count": 10,
      "outputs": [
        {
          "output_type": "stream",
          "name": "stdout",
          "text": [
            "sorted list (Descending):  [9, 6, 5, 5, 2, 1]\n"
          ]
        }
      ]
    },
    {
      "cell_type": "markdown",
      "source": [
        "18. Given a list of numbers, write a program to remove all duplicate elements and print the\n",
        "unique elements.\n"
      ],
      "metadata": {
        "id": "uT2V08cytBBC"
      }
    },
    {
      "cell_type": "code",
      "source": [
        "def remove_duplicates(input_list):\n",
        "    unique_set = set(input_list)\n",
        "    unique_list = list(unique_set)\n",
        "    return unique_list\n",
        "numbers = [1, 2, 2, 3, 4, 4, 5]\n",
        "unique_numbers = remove_duplicates(numbers)\n",
        "print(\"unique elements:\", unique_numbers)"
      ],
      "metadata": {
        "colab": {
          "base_uri": "https://localhost:8080/"
        },
        "id": "-TwzfxTXtB3J",
        "outputId": "4780960b-a1f5-4068-f18d-c965899719cd"
      },
      "execution_count": 11,
      "outputs": [
        {
          "output_type": "stream",
          "name": "stdout",
          "text": [
            "unique elements: [1, 2, 3, 4, 5]\n"
          ]
        }
      ]
    },
    {
      "cell_type": "markdown",
      "source": [
        "19. Given a tuple of names (“Alice”, “Bob”, “Charlie”, “Alice”, “David”), convert\n",
        "it into a list, remove duplicates, and convert it back to a tuple"
      ],
      "metadata": {
        "id": "ZKeCsPBauL_5"
      }
    },
    {
      "cell_type": "code",
      "source": [
        "names_tuple = (\"Alice\", \"Bob\", \"Charlie\", \"Alice\", \"David\")\n",
        "names_list = list(names_tuple)\n",
        "unique_names_set = set(names_list)\n",
        "unique_names_list = list(unique_names_set)\n",
        "unique_names_tuple = tuple(unique_names_list)\n",
        "print(\"unique names tuple:\" , unique_names_tuple)"
      ],
      "metadata": {
        "colab": {
          "base_uri": "https://localhost:8080/"
        },
        "id": "gsY--U5CuQ8D",
        "outputId": "ffcb4122-df1b-4734-aff4-f815166b81c0"
      },
      "execution_count": 12,
      "outputs": [
        {
          "output_type": "stream",
          "name": "stdout",
          "text": [
            "unique names tuple: ('Bob', 'David', 'Alice', 'Charlie')\n"
          ]
        }
      ]
    },
    {
      "cell_type": "markdown",
      "source": [
        "20. Create a program that takes a list of mixed data types (int, str, float) and separates\n",
        "integers into one list, strings into another, and floats into another"
      ],
      "metadata": {
        "id": "D6QOVbFhvuOB"
      }
    },
    {
      "cell_type": "code",
      "source": [
        "def separate_data_types(input_list):\n",
        "    integers = []\n",
        "    strings = []\n",
        "    floats = []\n",
        "    for item in input_list:\n",
        "        if type(item) == int:\n",
        "            integers.append(item)\n",
        "        elif type(item) == str:\n",
        "            strings.append(item)\n",
        "        elif type(item) == float:\n",
        "            floats.append(item)\n",
        "    return integers, strings, floats\n",
        "mixed_list = [10, \"Yousra\", 3.15, 23, \"Hassan\", 9.9, 26, \"Khan\"]\n",
        "integers, strings , floats = separate_data_types(mixed_list)\n",
        "print(\"Integers:\", integers)\n",
        "print(\"Strings:\", strings)\n",
        "print(\"Floats:\", floats)"
      ],
      "metadata": {
        "colab": {
          "base_uri": "https://localhost:8080/"
        },
        "id": "mPtob450vvDA",
        "outputId": "7a12dcfa-bdc1-4527-d51c-bea1ad7ea193"
      },
      "execution_count": 13,
      "outputs": [
        {
          "output_type": "stream",
          "name": "stdout",
          "text": [
            "Integers: [10, 23, 26]\n",
            "Strings: ['Yousra', 'Hassan', 'Khan']\n",
            "Floats: [3.15, 9.9]\n"
          ]
        }
      ]
    }
  ]
}